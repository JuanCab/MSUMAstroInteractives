{
 "cells": [
  {
   "cell_type": "markdown",
   "metadata": {},
   "source": [
    "# Plotting the HR Diagram Interactive"
   ]
  },
  {
   "cell_type": "code",
   "execution_count": 1,
   "metadata": {},
   "outputs": [],
   "source": [
    "# This Jupyter Notebook was initially developed by Juan Cabanela over the Summer of 2019\n",
    "# to allow students to more easily created HR diagrams which require plotting on logarithmic\n",
    "# axes, which is well beyond what most intro students feel comfortable with.\n",
    "\n",
    "from IPython.display import display\n",
    "import numpy as np\n",
    "import bqplot as bq\n",
    "from traitlets import link\n",
    "import ipywidgets as widgets\n",
    "import tempNcolor as t2c\n",
    "import ipysheet as ipysheet"
   ]
  },
  {
   "cell_type": "code",
   "execution_count": 2,
   "metadata": {},
   "outputs": [],
   "source": [
    "# Initial Stellar Data\n",
    "star_names = [\"18 Scorpii\", \"Sirius\", \"EGGR 102\", \"mu Geminorum\", \n",
    "              \"NSV 14168\", \"NLTT 40117\", \"zeta Andromedae\", \n",
    "              \"HD 84183\", \"Alkaid\", \"Altair\", \"Fomalhaut\", \"Pollux\", \n",
    "              \"Van Maanen\\'s Star\", \"NLTT 42064\", \"Gliese 269-17\"]\n",
    "star_names_array = np.array(star_names)\n",
    "star_num = len(star_names)\n",
    "\n",
    "star_BV = np.array([0.65, 0.01, -0.09, 1.62, 1.65, 1.10, 1.10, 0.60, \n",
    "                    -0.10, 0.22, 0.09, 1.00, 0.56, 0.86, 1.44])\n",
    "star_brightness= np.array([0.000429, 0.263, 5.29E-7, 0.00464, 9.92E-6, \n",
    "                           5.16E-6, 0.00156, 0.000130, 0.0124, 0.0335, \n",
    "                           0.0234, 0.0236, 7.74E-7, 9.65E-5, 3.91E-6])\n",
    "star_parallax = np.array([0.071, 0.38, 0.040, 0.014, 0.25, 0.025, 0.018, \n",
    "                          0.013, 0.032, 0.086, 0.051, 0.092, 0.064, \n",
    "                          0.064, 0.053])\n",
    "\n",
    "# Compute RGB colors for points based on B-V color\n",
    "hexcolors = t2c.rgb2hex(t2c.bv2rgb(star_BV))\n",
    "hexlist = hexcolors.tolist()\n",
    "\n",
    "# Compute the answers (to allow setting of plot ranges)\n",
    "star_dist = 1/star_parallax\n",
    "star_lum = star_brightness*(4*np.pi*star_dist**2)\n",
    "\n",
    "# Decide what goes in the columns and plot for distance and luminosity\n",
    "dist4plot = np.zeros_like(star_dist)\n",
    "lum4plot  = 1e-5*np.ones_like(star_lum)\n",
    "opacities4plot = np.ones_like(star_lum)\n",
    "names4plot = np.copy(star_names_array)\n",
    "# names4plot[:] = ' '"
   ]
  },
  {
   "cell_type": "code",
   "execution_count": 3,
   "metadata": {},
   "outputs": [],
   "source": [
    "##\n",
    "## Define scales, axes, and tooltips, which could be similar between \n",
    "## various implementations of the displayed widgets\n",
    "##\n",
    "\n",
    "# Scales to transform the data\n",
    "min_loglum = np.floor(np.min(np.log10(star_lum)))\n",
    "max_loglum = np.ceil(np.max(np.log10(star_lum)))\n",
    "min_lum = 10**min_loglum\n",
    "max_lum = 10**max_loglum\n",
    "n_lum = np.int(max_loglum-min_loglum+1)\n",
    "lum_ticks = 10**np.linspace(min_loglum, max_loglum, n_lum)\n",
    "\n",
    "min_logbright = np.floor(np.min(np.log10(star_brightness)))\n",
    "max_logbright = np.ceil(np.max(np.log10(star_brightness)))\n",
    "min_bright = 10**min_logbright\n",
    "max_bright = 10**max_logbright\n",
    "n_bright = np.int(max_logbright-min_logbright+1)\n",
    "\n",
    "x_sc_color = bq.LinearScale(min =-1, max=2.5)\n",
    "y_sc_bright = bq.LogScale(min = min_bright, max=max_bright)\n",
    "y_sc_lum = bq.LogScale(min = min_lum, max=max_lum)\n",
    "\n",
    "# Labels and scales for Axes\n",
    "ax_x_color = bq.Axis(label='B-V', scale=x_sc_color)\n",
    "ax_y_bright = bq.Axis(label='Brightness (L_sun/pc^2)', scale=y_sc_bright, orientation='vertical')\n",
    "ax_y_lum = bq.Axis(label='Luminosity (L_sun)', scale=y_sc_lum, orientation='vertical', tick_values=lum_ticks)\n",
    "\n",
    "# moving the label perpendicular to the axis\n",
    "ax_y_bright.label_offset = '3.5em'\n",
    "ax_y_lum.label_offset = '3em'\n"
   ]
  },
  {
   "cell_type": "code",
   "execution_count": 4,
   "metadata": {},
   "outputs": [],
   "source": [
    "# Build an interactive data sheet\n",
    "sheet = ipysheet.sheet(rows=star_num, columns=6, column_headers=[\"Star Name\", \"B-V\", \"Brightness\", \"Parallax\", \"Distance\", \"Luminosity\"])\n",
    "names = ipysheet.column(0, names4plot, row_start=0, background_color=\"lightgray\")\n",
    "BVs = ipysheet.column(1, star_BV, row_start=0, numeric_format='0.00', type='numeric')\n",
    "fluxes = ipysheet.column(2, star_brightness, row_start=0, numeric_format='0.000000000', type='numeric')\n",
    "parallaxes = ipysheet.column(3, star_parallax, row_start=0, type='numeric')\n",
    "distances = ipysheet.column(4, dist4plot, row_start=0, type='numeric')\n",
    "lums = ipysheet.column(5, lum4plot, row_start=0, type='numeric')\n"
   ]
  },
  {
   "cell_type": "code",
   "execution_count": 5,
   "metadata": {},
   "outputs": [],
   "source": [
    "# This function takes the information from the BrushSelector and acts on it\n",
    "def update_plot(change):\n",
    "    global opacities4plot, names4plot\n",
    "    \n",
    "    # Change the parameters\n",
    "    print(\"Making change: \", lums.value)\n",
    "    #scat_lum.y = change.value\n",
    "    #opacities4plot[change.value > 0] = 1\n",
    "    #names4plot[change.value > 0] = star_names[change.value > 0]\n",
    "    #scat_lum.default_opacities = opacities4plot\n",
    "    #scat_lum.names = names4plot\n",
    "\n",
    "def on_value_change(change):\n",
    "    caption.value = change['new']"
   ]
  },
  {
   "cell_type": "code",
   "execution_count": 8,
   "metadata": {},
   "outputs": [
    {
     "data": {
      "application/vnd.jupyter.widget-view+json": {
       "model_id": "a737346e5ed343958f0544f820c9689d",
       "version_major": 2,
       "version_minor": 0
      },
      "text/plain": [
       "HBox(children=(Sheet(cells=(Cell(column_end=0, column_start=0, row_end=14, row_start=0, squeeze_row=False, sty…"
      ]
     },
     "metadata": {},
     "output_type": "display_data"
    }
   ],
   "source": [
    "##\n",
    "## Construct the actual plots and widgets for the first interactive\n",
    "##\n",
    "PlotBkgStyle={'fill': 'lightgrey'}\n",
    "PlotLayout={'width': '400px', 'min_height': '400px'}\n",
    "\n",
    "# Define a tooltip\n",
    "#def_tt_bright = bq.Tooltip(fields=['name', x', 'y'], labels=['Name', B-V', 'Brightness'])\n",
    "def_tt_lum = bq.Tooltip(fields=['name', 'x', 'y'], labels=['Name', 'B-V', 'Luminosity'])\n",
    "\n",
    "\n",
    "# Designing the Brightness diagram\n",
    "#scat_bright = bq.Scatter(x=star_BV, y=star_brightness, \n",
    "#                         names=names4plot, display_names=True, apply_clip=False,\n",
    "#                         scales={'x': x_sc_color, 'y': y_sc_bright},\n",
    "#                         marker='circle', colors=hexlist, \n",
    "#                         default_size=30, tooltip=def_tt_bright, stroke='black', fill=True)\n",
    "#fig_bright = bq.Figure(axes=[ax_x_color, ax_y_bright], marks=[scat_bright], \n",
    "#                       title='Brightness of Sample Stars', \n",
    "#                       background_style=PlotBkgStyle, layout=PlotLayout)\n",
    "\n",
    "# Designing the HR diagram (set points to be initiallize invisible)\n",
    "scat_lum = bq.Scatter(x=star_BV, y=lum4plot, \n",
    "                      names=names4plot, display_names=True, apply_clip=True,\n",
    "                      scales={'x': x_sc_color, 'y': y_sc_lum},\n",
    "                      marker='circle', colors=hexlist, default_opacities=list(opacities4plot),\n",
    "                      default_size=30, tooltip=def_tt_lum, stroke='black', fill=True)\n",
    "scat_lum.tooltip = None\n",
    "fig_lum = bq.Figure(axes=[ax_x_color, ax_y_lum], marks=[scat_lum], \n",
    "                    title='HR Diagram of Sample Stars', \n",
    "                    background_style=PlotBkgStyle, layout=PlotLayout)\n",
    "\n",
    "\n",
    "# Displaying the data\n",
    "\n",
    "# Link diagram information to sheet information\n",
    "#fig_bright.layout.height = '400px'\n",
    "#fig_bright.layout.width = '400px'\n",
    "#sheet.layout.height = '400px'\n",
    "#sheet.layout.width = '600px'\n",
    "#link((scat_bright, 'names'), (names, 'value'))\n",
    "#link((scat_bright, 'x'), (BVs, 'value'))\n",
    "#link((scat_bright, 'y'), (fluxes, 'value'))\n",
    "\n",
    "# Display the HR diagram and the sheet\n",
    "fig_lum.layout.height = '400px'\n",
    "fig_lum.layout.width = '400px'\n",
    "sheet.layout.height = '400px'\n",
    "sheet.layout.width = '600px'\n",
    "link((scat_lum, 'names'), (names, 'value'))\n",
    "link((scat_lum, 'x'), (BVs, 'value'))\n",
    "link((scat_lum, 'y'), (lums, 'value'))\n",
    "\n",
    "# Respond to changes in the luminosity values\n",
    "#lums.observe(on_value_change, names='value')\n",
    "\n",
    "# Display the HR diagram and the sheet\n",
    "caption = widgets.Label(value='Caption to Update')\n",
    "HR_widget = widgets.HBox([sheet, fig_lum])\n",
    "display(HR_widget)"
   ]
  },
  {
   "cell_type": "code",
   "execution_count": null,
   "metadata": {},
   "outputs": [],
   "source": []
  }
 ],
 "metadata": {
  "kernelspec": {
   "display_name": "Python 3",
   "language": "python",
   "name": "python3"
  },
  "language_info": {
   "codemirror_mode": {
    "name": "ipython",
    "version": 3
   },
   "file_extension": ".py",
   "mimetype": "text/x-python",
   "name": "python",
   "nbconvert_exporter": "python",
   "pygments_lexer": "ipython3",
   "version": "3.7.3"
  }
 },
 "nbformat": 4,
 "nbformat_minor": 1
}
