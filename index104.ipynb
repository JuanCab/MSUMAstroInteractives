{
 "cells": [
  {
   "cell_type": "markdown",
   "metadata": {},
   "source": [
    "# MSUM Astronomical Interactives for Stellar Astronomy"
   ]
  },
  {
   "cell_type": "markdown",
   "metadata": {},
   "source": [
    "*Astro Interactives* is a series of web apps meant to provide interactive demos and simulations for introductory astronomy courses.  This software is provide \"as-is\" and may contain bugs/errors that could  mis-represent astronomical reality.  You use this software at your own risk!  Keep in mind the authors are not professional programers!"
   ]
  },
  {
   "cell_type": "markdown",
   "metadata": {},
   "source": [
    "## Interactives sorted by Lab Activity"
   ]
  },
  {
   "cell_type": "markdown",
   "metadata": {},
   "source": [
    "### Spectra and Spectroscopy\n",
    "1. [Doppler Shift Interactives](Interactives/DopplerShift.ipynb) - These Doppler Shift interactives are designed to allow students to first model simple Doppler Shift and then to model the more complicated time-varying Doppler Shift seen in binary star and exoplanetary systems.\n",
    "\n",
    "### Eclipsing Binaries\n",
    "1. [Binary Star Simulation Interactive](Interactives/Binary_Star_Sim.ipynb) -  This interactive contains a full 3D simulation of a binary star system, including a radial velocity or light curve for that system.  The user can control most physical parameters of the system.\n",
    "\n",
    "### Binary Stars and Kepler’s Laws\n",
    "1. [Center of Mass Interactive](Interactives/Center_of_Mass.ipynb) - This interactive model simply allows a student to adjust the mass and separation of two stars and see the shifts of their orbits, illustrating the center of mass position.\n",
    "\n",
    "### Building an HR diagram\n",
    "1. [Blackbody Spectra Interactives](Interactives/Blackbody_Simulation.ipynb) - This set of interactive figures can be used to explore the properties of the Blackbody spectrum as applied to stars.  \n",
    "2. [Building an HR Diagram](Interactives/Plotting_HR_Diagram.ipynb) - This interactive just allows you to make an HR diagram by entering the numbers into a spreadsheet without having to know how to make a logarithmic plot.\n",
    "\n",
    "### HR Diagrams of Star Clusters\n",
    "1. [HR Diagram Interactives](Interactives/HR_Diagram.ipynb) - This set of interactive plots allows a student to explore the data that goes into the HR diagram, then how main sequence fitting can be used to determine the distance to a star cluster, and finally, how detailed stellar evolution models can be used to also determine the age of a star cluster.\n"
   ]
  },
  {
   "cell_type": "markdown",
   "metadata": {},
   "source": [
    "## Known issues"
   ]
  },
  {
   "cell_type": "markdown",
   "metadata": {},
   "source": [
    "- In some interactives, the animations are buffered by the web browser so that they lag behind the user inputs.  Efforts have been made to optimize the code to avoid these problems."
   ]
  }
 ],
 "metadata": {
  "kernelspec": {
   "display_name": "Python 3",
   "language": "python",
   "name": "python3"
  },
  "language_info": {
   "codemirror_mode": {
    "name": "ipython",
    "version": 3
   },
   "file_extension": ".py",
   "mimetype": "text/x-python",
   "name": "python",
   "nbconvert_exporter": "python",
   "pygments_lexer": "ipython3",
   "version": "3.7.3"
  }
 },
 "nbformat": 4,
 "nbformat_minor": 1
}
