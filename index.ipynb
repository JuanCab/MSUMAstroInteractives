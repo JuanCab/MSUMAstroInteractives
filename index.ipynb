{
 "cells": [
  {
   "cell_type": "markdown",
   "metadata": {},
   "source": [
    "# Astronomical Interactives"
   ]
  },
  {
   "cell_type": "markdown",
   "metadata": {},
   "source": [
    "[*Astro Interactives*](https://juancab.github.io/AstroInteractives/) is a series of Jupyter Notebooks meant to provide interactive demos and simulations for introductory astronomy courses (and in a few cases, upper-division astrophysics courses). These notebooks were initially developed by Professor Juan Cabanela, Andrew Louwagie Gordon (MSUM class of 2019), and Sam Holen (MSUM Class of 2019)."
   ]
  },
  {
   "cell_type": "code",
   "execution_count": null,
   "metadata": {},
   "outputs": [],
   "source": [
    "import os\n",
    "from IPython.display import display, HTML\n",
    "\n",
    "# Detect is running in Voici by checking the HOME environment variable\n",
    "if os.environ.get('HOME','') == '/home/web_user':\n",
    "    prefix = \"\"\n",
    "    suffix = \"html\"\n",
    "else:\n",
    "    prefix = \"Interactives/\"\n",
    "    suffix = \"ipynb\"\n",
    "\n",
    "##\n",
    "## Define HTML blocks to display below\n",
    "##\n",
    "\n",
    "general_astronomy_html = f\"\"\"\n",
    "<h3 id='general-astronomy'>General Astronomy</h3>\n",
    "<ol start='' >\n",
    "<li><a href='{prefix}SmallAngleEquation.{suffix}'>Small Angle Approximation Interactive</a> - This interactive was designed to allow students who are uncomfortable with mathematics visualize what is happening when the small angle approximation is valid.</li>\n",
    "<li><a href='{prefix}FluxVsLuminositySimulation.{suffix}'>Flux vs.Luminosity Interactive</a> - This interactive is meant to be used in discussions of the concepts of flux/brightness, luminosity, and the inverse square law.</li>\n",
    "<li><a href='{prefix}DopplerShift.{suffix}'>Doppler Shift Interactives</a> - These Doppler Shift interactives are designed to allow students to first model simple Doppler Shift and then to model the more complicated time-varying Doppler Shift seen in binary star and exoplanetary systems.</li>\n",
    "</ol>\"\"\"\n",
    "\n",
    "sol_sys_html = f\"\"\"\n",
    "<h3 id='solar-system-and-planetary-astronomy'>Solar System and Planetary Astronomy</h3>\n",
    "<ol start='' >\n",
    "<li><a href='{prefix}Radioactivity.{suffix}'>Radioactive Decay Interactives</a> - This pair of interactive plots is used to illustrate the concept of radioactive decay, half-life, and how these concepts can be used to determine the age of some rocks via the geochron method.</li>\n",
    "<li><a href='{prefix}Exoplanet_Sim.{suffix}'>Exoplanet System Simulation Interactive</a> - This interactive contains a full 3D simulation of a star system containing a single Jovian exoplanet, including a radial velocity or light curve for that system.</li>\n",
    "</ol>\n",
    "\"\"\"\n",
    "\n",
    "stellar_html = f\"\"\"\n",
    "<h3 id='stellar-astronomy'>Stellar Astronomy</h3>\n",
    "<ol start='' >\n",
    "<li><a href='{prefix}Center_of_Mass.{suffix}'>Center of Mass Interactive</a> - This interactive model simply allows a student to adjust the mass and separation of two stars and see the shifts of their orbits, illustrating the center of mass position.</li>\n",
    "<li><a href='{prefix}Binary_Star_Sim.{suffix}'>Binary Star Simulation Interactive</a> - This interactive contains a full 3D simulation of a binary star system, including a radial velocity or light curve for that system. The user can control most physical parameters of the system.</li>\n",
    "<li><a href='{prefix}LuminosityCalculator.{suffix}'>Luminosity Calculator Interactive</a> - This interactive is used to illustrate to students how the radius and temperature of a star affect its luminosity. The colors of the stars accurately correspond to the temperature, but the stars produced might not have radii and temperatures that correspond to real stars.</li>\n",
    "<li><a href='{prefix}Blackbody_Simulation.{suffix}'>Blackbody Spectra Interactives</a> - This set of interactive figures can be used to explore the properties of the Blackbody spectrum as applied to stars.</li>\n",
    "<li><a href='{prefix}HR_Diagram.{suffix}'>HR Diagram Interactives</a> - This set of interactive plots allows a student to explore the data that goes into the HR diagram, then how main sequence fitting can be used to determine the distance to a star cluster, and finally, how detailed stellar evolution models can be used to also determine the age of a star cluster.</li>\n",
    "</ol>\n",
    "\"\"\"\n",
    "\n",
    "extragal_html = f\"\"\"\n",
    "<h3 id='galactic-and-extragalactic-astrophysics'>Galactic and Extragalactic Astrophysics</h3>\n",
    "<p>The following interactives are meant to be used in an upper-division astrophysics class as a way of introducing &#8467;-v diagrams and 21-cm spectra. These are not really meant to introduce the concepts but rather to allow students to explore how the distribution of neutral hydrogen gas both in position and velocity affects the observed &#8467;-v diagram of the Milky Way galaxy and the HI spectra of external galaxies.</p>\n",
    "<ol start='' >\n",
    "<li><a href='{prefix}Synthetic_LV_Diagram.{suffix}'>Synthetic &#8467;-v Diagram</a> - This interactive takes a Milky Way-like rotation curve and neutral gas profile and generates a synthetic &#8467;-v diagram. Users can then simply trace out a new rotation curve or neutral gas profile and see the corresponding &#8467;-v diagram.</li>\n",
    "<li><a href='{prefix}Synthetic_Galaxy_HI_Spectra.{suffix}'>Synthetic HI Spectra</a> - This interactive model allows a student to see the single-dish (unresolved) HI spectra or the resolved HI spectra (aka velocity map) corresponding to a given model galaxy. As with the &#8467;-v diagram interactive, users can trace out a new rotation curve or neutral gas profile and see the corresponding spectra.</li>\n",
    "</ol>\n",
    "\"\"\"\n",
    "\n",
    "# Combine all HTML blocks to display\n",
    "header_html = f\"\"\"\n",
    "The currently available Interactives are the following:\n",
    "\"\"\"\n",
    "combined_html = header_html + general_astronomy_html + sol_sys_html + \\\n",
    "                stellar_html + extragal_html\n",
    "\n",
    "# Display the HTML\n",
    "\n",
    "display(HTML(combined_html))"
   ]
  },
  {
   "cell_type": "markdown",
   "metadata": {},
   "source": []
  }
 ],
 "metadata": {
  "kernelspec": {
   "display_name": "Python 3 (ipykernel)",
   "language": "python",
   "name": "python3"
  },
  "language_info": {
   "codemirror_mode": {
    "name": "ipython",
    "version": 3
   },
   "file_extension": ".py",
   "mimetype": "text/x-python",
   "name": "python",
   "nbconvert_exporter": "python",
   "pygments_lexer": "ipython3",
   "version": "3.12.4"
  }
 },
 "nbformat": 4,
 "nbformat_minor": 4
}
