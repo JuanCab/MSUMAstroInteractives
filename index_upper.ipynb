{
 "cells": [
  {
   "cell_type": "markdown",
   "metadata": {},
   "source": [
    "# MSUM Astronomical Interactives for Upper-Division Astrophysics"
   ]
  },
  {
   "cell_type": "markdown",
   "metadata": {},
   "source": [
    "*Astro Interactives* is a series of web apps meant to provide interactive demos and simulations for introductory astronomy courses.  This software is provide \"as-is\" and may contain bugs/errors that could  mis-represent astronomical reality.  You use this software at your own risk!  Keep in mind the authors are not professional programers!"
   ]
  },
  {
   "cell_type": "markdown",
   "metadata": {},
   "source": [
    "1. [Binary Star Simulation Interactive](Interactives/Binary_Star_Sim.ipynb) -  This interactive contains a full 3D simulation of a binary star system, including a radial velocity or light curve for that system.  The user can control most physical parameters of the system.\n",
    "1. [Blackbody Spectra Interactives](Interactives/Blackbody_Simulation.ipynb) - This set of interactive figures can be used to explore the properties of the Blackbody spectrum as applied to stars.  \n",
    "1. [HR Diagram Interactives](Interactives/HR_Diagram.ipynb) - This set of interactive plots allows a student to explore the data that goes into the HR diagram, then how main sequence fitting can be used to determine the distance to a star cluster, and finally, how detailed stellar evolution models can be used to also determine the age of a star cluster.\n",
    "1. [Synthetic $\\ell$-v Diagram](Interactives/Synthetic_LV_Diagram.ipynb) -  This interactive takes a Milky Way-like rotation curve and neutral gas profile and generates a synthetic $\\ell$-v diagram.  Users can then simply trace out a new rotation curve or neutral gas profile and see the corresponding $\\ell$-v diagram.\n",
    "2. [Synthetic HI Spectra](Interactives/Synthetic_Galaxy_HI_Spectra.ipynb) - This interactive model allows a student to see the single-dish (unresolve) HI spectra or the resolved HI spectra (aka velocity map) corresponding to a given model galaxy.  As with the $\\ell$-v diagram interactive, users can  trace out a new rotation curve or neutral gas profile and see the corresponding spectra."
   ]
  },
  {
   "cell_type": "markdown",
   "metadata": {},
   "source": [
    "## Known issues"
   ]
  },
  {
   "cell_type": "markdown",
   "metadata": {},
   "source": [
    "- In some interactives, the animations are buffered by the web browser so that they lag behind the user inputs.  Efforts have been made to optimize the code to avoid these problems."
   ]
  }
 ],
 "metadata": {
  "kernelspec": {
   "display_name": "Python 3",
   "language": "python",
   "name": "python3"
  },
  "language_info": {
   "codemirror_mode": {
    "name": "ipython",
    "version": 3
   },
   "file_extension": ".py",
   "mimetype": "text/x-python",
   "name": "python",
   "nbconvert_exporter": "python",
   "pygments_lexer": "ipython3",
   "version": "3.7.3"
  }
 },
 "nbformat": 4,
 "nbformat_minor": 4
}
